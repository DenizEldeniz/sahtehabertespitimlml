{
 "cells": [
  {
   "cell_type": "markdown",
   "metadata": {},
   "source": [
    "# **VERİ BULMA**\n",
    "Makine öğrenmesi için elimde hem sahte haber hem de gerçek haber niteliği taşıyan haber verisine ihtiyacım vardı. Türkçe veri seti bulmak zordu bu yüzden ben bulduğum tüm Türkçe haber kaynaklarını birleştirmeye karar verdim. Sahte haber kaynağını ise kendim yapay zekaya yazdırdım.\n",
    "\n",
    "https://www.kaggle.com/datasets/suleymancan/turkishnews70000\n",
    "\n",
    "https://www.kaggle.com/datasets/mohamedibrahimabdi/sahte-haber-analizit-rke-metinler kaynaklarını buldum ve indirdim."
   ]
  },
  {
   "cell_type": "markdown",
   "metadata": {},
   "source": [
    "\n",
    "# **VERİ DÜZENLEME**\n",
    "\n",
    "Gördüğünüz gibi dosya isimleri çok karışık. Önce kolay işlem yapabilmek için Sahte_Haber_Analizi_Trke_Metinler.xlsx dosyasının ismini gercek1.xlsx, turkish_news_70000.csv dosyasının ismini de gercek2.cvs yapacağım.\n",
    "\n",
    "İki veriyi birleştireceğim için aynı formatta olmaları gerekiyor. Bu yüzden xlsx dosyasını csv dosyasına dönüştürüyorum."
   ]
  },
  {
   "cell_type": "code",
   "execution_count": 1,
   "metadata": {
    "execution": {
     "iopub.execute_input": "2025-05-25T19:30:02.047549Z",
     "iopub.status.busy": "2025-05-25T19:30:02.047142Z",
     "iopub.status.idle": "2025-05-25T19:30:02.055263Z",
     "shell.execute_reply": "2025-05-25T19:30:02.053753Z",
     "shell.execute_reply.started": "2025-05-25T19:30:02.047523Z"
    },
    "trusted": true
   },
   "outputs": [],
   "source": [
    "import pandas as pd\n",
    "import os"
   ]
  },
  {
   "cell_type": "code",
   "execution_count": 2,
   "metadata": {
    "execution": {
     "iopub.execute_input": "2025-05-25T19:30:02.060988Z",
     "iopub.status.busy": "2025-05-25T19:30:02.060404Z",
     "iopub.status.idle": "2025-05-25T19:30:15.088796Z",
     "shell.execute_reply": "2025-05-25T19:30:15.087530Z",
     "shell.execute_reply.started": "2025-05-25T19:30:02.060955Z"
    },
    "trusted": true
   },
   "outputs": [],
   "source": [
    "\n",
    "\n",
    "# 1. Excel dosyasını CSV'ye dönüştür\n",
    "df1 = pd.read_excel('Sahte_Haber_AnaliziT_rke_Metinler.xlsx')\n",
    "df1.to_csv('gercek1.csv', index=False)\n",
    "\n",
    "# 2. Diğer CSV dosyasını yeniden adlandır\n",
    "df2 = pd.read_csv('turkish_news_70000.csv')\n",
    "df2.to_csv('gercek2.csv', index=False)\n",
    "\n"
   ]
  },
  {
   "cell_type": "markdown",
   "metadata": {},
   "source": [
    "# **VERİ TEMİZLEME**\n",
    "Bakıyoruz ki gercek2.cvs ve gercek1.cvs dosyasında kullanmamızı gerektirmeyen sütunlar var. Bunları silelim.\n"
   ]
  },
  {
   "cell_type": "markdown",
   "metadata": {},
   "source": [
    "[![Image](https://i.hizliresim.com/jh79kz7.png)](https://hizliresim.com/jh79kz7)"
   ]
  },
  {
   "cell_type": "code",
   "execution_count": null,
   "metadata": {},
   "outputs": [],
   "source": [
    "df1 = df1.rename(columns={\"Haberler\": \"text\"}) #sütun adını değiştirir\n",
    "df1 = df1.drop(columns={\"Sonuc\"})\n",
    "df1 = df1.to_csv(\"gercek1.csv\")\n",
    "df2 = df2.drop(columns={\"main_image\",\"id\",\"published\",\"site\",\"url\",\"title\"})\n",
    "df2 = df2.to_csv(\"gercek2.csv\")"
   ]
  },
  {
   "cell_type": "markdown",
   "metadata": {},
   "source": [
    "Sildikten sonra ,text çıktığı için ve gercek2.csvde fazladan tırnak işareti olduğu için onları silmek istiyorum."
   ]
  },
  {
   "cell_type": "code",
   "execution_count": null,
   "metadata": {},
   "outputs": [],
   "source": [
    "files = ['gercek1.csv', 'gercek2.csv']\n",
    "for file in files:\n",
    "    df = pd.read_csv(file)\n",
    "    if 'text' in df.columns:\n",
    "        df = df[['text']]\n",
    "    else:\n",
    "        df.columns = ['drop', 'text']\n",
    "        df = df[['text']]\n",
    "    df[\"text\"] = df[\"text\"].str.replace('\"',\"\")\n",
    "    df.to_csv(f\"{file}\", index=False)"
   ]
  },
  {
   "cell_type": "markdown",
   "metadata": {},
   "source": [
    "Evet, gereksiz başlıkları sildik. Kolay birleştirebilmek için iki dosyanın da sütunu \"text\" oldu."
   ]
  },
  {
   "cell_type": "markdown",
   "metadata": {},
   "source": [
    "fotoğrafki gibi iki cvs dosyasının da sütunu \"text\" oldu[![Image](https://i.hizliresim.com/nowwna3.jpg)](https://hizliresim.com/nowwna3)\n",
    "\n"
   ]
  },
  {
   "cell_type": "markdown",
   "metadata": {},
   "source": [
    "# **VERİ BİRLEŞTİRME**\n",
    "Şimdi ise iki cvs dosyasını birleştireceğim ki çok daha büyük bir gerçek haber verim olsun.\n"
   ]
  },
  {
   "cell_type": "code",
   "execution_count": 13,
   "metadata": {
    "execution": {
     "iopub.execute_input": "2025-05-25T19:30:19.138173Z",
     "iopub.status.busy": "2025-05-25T19:30:19.137822Z",
     "iopub.status.idle": "2025-05-25T19:30:27.943706Z",
     "shell.execute_reply": "2025-05-25T19:30:27.942655Z",
     "shell.execute_reply.started": "2025-05-25T19:30:19.138141Z"
    },
    "trusted": true
   },
   "outputs": [],
   "source": [
    "# CSV dosyalarını oku\n",
    "df1 = pd.read_csv(\"gercek1.csv\")\n",
    "df2 = pd.read_csv(\"gercek2.csv\")\n",
    "\n",
    "# Birleştir ve temizle\n",
    "df_gercek = pd.concat([df1, df2], ignore_index=True)\n",
    "df_gercek = df_gercek.drop_duplicates()\n",
    "df_gercek['label'] = 0\n",
    "\n",
    "# Sahte veriyi oku\n",
    "df_sahte = pd.read_csv(\"sahte.csv\")\n",
    "df_sahte['label'] = 1\n",
    "\n",
    "# Dosyaları kaydet\n",
    "df_gercek.to_csv(\"gercekbirlesik.csv\", index=False)\n",
    "df_sahte.to_csv(\"sahte.csv\", index=False)"
   ]
  },
  {
   "cell_type": "markdown",
   "metadata": {},
   "source": [
    "# **SAHTE HABER VERİSİ**\n",
    "\n",
    "\n",
    "Şimdi ise makineye öğretmek için sahte haber verilerini indirmem lazım.\n",
    "Bunun için interneti araştırdım ama bulamadım. Bu yüzden yapay zekadan sahte haber oluşturup bana vermesini isteyeceğim.\n",
    "\n"
   ]
  },
  {
   "cell_type": "markdown",
   "metadata": {},
   "source": [
    "# **MAKİNE ÖĞRENMESİ KÜTÜPHANE YÜKLEME**\n",
    "Şu an elimde sahte.csv ve gercekbirlesik.csv dosyaları var. Artık python kütüphanelerini kullanarak makineye öğreteceğim.\n",
    "\n",
    "Önce kütüphaneleri yükleyelim."
   ]
  },
  {
   "cell_type": "code",
   "execution_count": 14,
   "metadata": {
    "execution": {
     "iopub.execute_input": "2025-05-25T19:30:27.945003Z",
     "iopub.status.busy": "2025-05-25T19:30:27.944733Z",
     "iopub.status.idle": "2025-05-25T19:30:27.951652Z",
     "shell.execute_reply": "2025-05-25T19:30:27.950561Z",
     "shell.execute_reply.started": "2025-05-25T19:30:27.944982Z"
    },
    "trusted": true
   },
   "outputs": [],
   "source": [
    "from sklearn.model_selection import train_test_split\n",
    "from sklearn.feature_extraction.text import TfidfVectorizer\n",
    "from sklearn.linear_model import LogisticRegression\n",
    "from sklearn.metrics import classification_report, confusion_matrix\n",
    "from sklearn.utils import shuffle"
   ]
  },
  {
   "cell_type": "markdown",
   "metadata": {},
   "source": [
    "# **HAZIR VERİLERİN GRAFİĞİ**\n",
    "ŞİMDİ İSE MAKİNE ÖĞRENMESİNE HAZIRLANMIŞ VERİLERİMİZİ İNCELEYELİM. BUNUN İÇİN SEABORN VE MATPLOTLİB KÜTÜPHANESİNİ KULLANACAĞIM."
   ]
  },
  {
   "cell_type": "code",
   "execution_count": 15,
   "metadata": {
    "execution": {
     "iopub.execute_input": "2025-05-25T19:30:27.952722Z",
     "iopub.status.busy": "2025-05-25T19:30:27.952434Z",
     "iopub.status.idle": "2025-05-25T19:30:28.179183Z",
     "shell.execute_reply": "2025-05-25T19:30:28.178202Z",
     "shell.execute_reply.started": "2025-05-25T19:30:27.952701Z"
    },
    "trusted": true
   },
   "outputs": [
    {
     "data": {
      "image/png": "[encoded data removed]",
      "text/plain": [
       "<Figure size 640x480 with 1 Axes>"
      ]
     },
     "metadata": {},
     "output_type": "display_data"
    }
   ],
   "source": [
    "import matplotlib.pyplot as plt\n",
    "import seaborn as sns\n",
    "df = pd.concat([df_gercek, df_sahte], ignore_index=True)\n",
    "sns.countplot(data=df, x='label')\n",
    "plt.title(\"Gerçek vs Sahte Haber Dağılımı\")\n",
    "plt.xlabel(\"Sınıf\")\n",
    "plt.ylabel(\"Adet\")\n",
    "plt.show()"
   ]
  },
  {
   "cell_type": "markdown",
   "metadata": {},
   "source": [
    "EN ÇOK GEÇEN KELİMELERE BAKALIM"
   ]
  },
  {
   "cell_type": "code",
   "execution_count": 16,
   "metadata": {
    "execution": {
     "iopub.execute_input": "2025-05-25T19:30:28.180439Z",
     "iopub.status.busy": "2025-05-25T19:30:28.180179Z",
     "iopub.status.idle": "2025-05-25T19:30:58.990773Z",
     "shell.execute_reply": "2025-05-25T19:30:58.989593Z",
     "shell.execute_reply.started": "2025-05-25T19:30:28.180419Z"
    },
    "trusted": true
   },
   "outputs": [
    {
     "data": {
      "image/png": "[encoded data removed]",
      "text/plain": [
       "<Figure size 1000x600 with 1 Axes>"
      ]
     },
     "metadata": {},
     "output_type": "display_data"
    }
   ],
   "source": [
    "from sklearn.feature_extraction.text import CountVectorizer\n",
    "import matplotlib.pyplot as plt\n",
    "import seaborn as sns\n",
    "\n",
    "turkish_stop_words = [\n",
    "    'acaba', 'ama', 'aslında', 'az', 'bazı', 'belki', 'ben', 'biri', 'birkaç', 'birşey', \n",
    "    'biz', 'bu', 'çok', 'çünkü', 'da', 'daha', 'de', 'defa', 'diye', 'eğer', 'en', 'gibi', \n",
    "    'hem', 'hep', 'hepsi', 'her', 'hiç', 'için', 'ile', 'ise', 'kez', 'ki', 'kim', 'mı', \n",
    "    'mu', 'mü', 'nasıl', 'ne', 'neden', 'nerde', 'nerede', 'nereye', 'niçin', 'niye', 'o', \n",
    "    'sanki', 'şey', 'şu', 'tamam', 'tüm', 've', 'veya', 'ya', 'yani'\n",
    "]\n",
    "\n",
    "vectorizer = CountVectorizer(\n",
    "    stop_words=turkish_stop_words,\n",
    "    max_features=20,\n",
    "    token_pattern=r'(?u)\\b\\w\\w+\\b'\n",
    ")\n",
    "\n",
    "X = vectorizer.fit_transform(df['text'])\n",
    "word_freq = X.toarray().sum(axis=0)\n",
    "words = vectorizer.get_feature_names_out()\n",
    "\n",
    "plt.figure(figsize=(10,6))\n",
    "sns.barplot(x=word_freq, y=words)\n",
    "plt.title(\"En Sık Kullanılan 20 Kelime\")\n",
    "plt.xlabel(\"Kullanım Sıklığı\")\n",
    "plt.ylabel(\"Kelime\")\n",
    "plt.show()\n"
   ]
  },
  {
   "cell_type": "markdown",
   "metadata": {},
   "source": [
    "Tek bir DataFrame altında toplamak istiyoruz. Ve sonrasında verileri karıştırıyoruz ve makinenin performansını arttırmayı hedefliyoruz.\n",
    "Eğer karıştırmazsak makine örüntüyü öğrenebilir."
   ]
  },
  {
   "cell_type": "code",
   "execution_count": 17,
   "metadata": {
    "execution": {
     "iopub.execute_input": "2025-05-25T19:30:58.992011Z",
     "iopub.status.busy": "2025-05-25T19:30:58.991740Z",
     "iopub.status.idle": "2025-05-25T19:30:59.088680Z",
     "shell.execute_reply": "2025-05-25T19:30:59.087329Z",
     "shell.execute_reply.started": "2025-05-25T19:30:58.991984Z"
    },
    "trusted": true
   },
   "outputs": [],
   "source": [
    "df = pd.concat([df_gercek, df_sahte], ignore_index=True)\n",
    "df = shuffle(df, random_state=42).reset_index(drop=True)\n",
    "\n",
    "X = df['text'] #metin sütunuma x diyorum,\n",
    "y = df['label'] #labelime yani doğruluk yanlışlığa y veriyorum"
   ]
  },
  {
   "cell_type": "markdown",
   "metadata": {},
   "source": [
    "# **EĞİTİM VE TEST SETLERİ**\n",
    "Eğitim ve test setlerine ayıralım (%70 eğitim, %30 test)\n",
    "TF-IDF ile metni sayısallaştıralım ki çıktıları görelim\n"
   ]
  },
  {
   "cell_type": "code",
   "execution_count": 18,
   "metadata": {
    "execution": {
     "iopub.execute_input": "2025-05-25T19:30:59.091326Z",
     "iopub.status.busy": "2025-05-25T19:30:59.091049Z",
     "iopub.status.idle": "2025-05-25T19:31:34.860480Z",
     "shell.execute_reply": "2025-05-25T19:31:34.859536Z",
     "shell.execute_reply.started": "2025-05-25T19:30:59.091304Z"
    },
    "trusted": true
   },
   "outputs": [],
   "source": [
    "X_train, X_test, y_train, y_test = train_test_split(X, y, test_size=0.3, random_state=42)\n",
    "turkish_stop_words = [\n",
    "    'acaba', 'ama', 'aslında', 'az', 'bazı', 'belki', 'ben', 'biri', 'birkaç', 'birşey', \n",
    "    'biz', 'bu', 'çok', 'çünkü', 'da', 'daha', 'de', 'defa', 'diye', 'eğer', 'en', 'gibi', \n",
    "    'hem', 'hep', 'hepsi', 'her', 'hiç', 'için', 'ile', 'ise', 'kez', 'ki', 'kim', 'mı', \n",
    "    'mu', 'mü', 'nasıl', 'ne', 'neden', 'nerde', 'nerede', 'nereye', 'niçin', 'niye', 'o', \n",
    "    'sanki', 'şey', 'şu', 'tamam', 'tüm', 'çok', 've', 'veya', 'ya', 'yani'\n",
    "]\n",
    "\n",
    "vectorizer = TfidfVectorizer(stop_words=turkish_stop_words, max_df=0.7)\n",
    "X_train_tfidf = vectorizer.fit_transform(X_train)\n",
    "X_test_tfidf = vectorizer.transform(X_test)\n"
   ]
  },
  {
   "cell_type": "markdown",
   "metadata": {},
   "source": [
    "# **MODEL EĞİTİMİ**\n",
    "şimdi modeli oluşturalım ve eğitelim sonrasında da artık projeyi çalıştırıp doğruluk oranını yazdıralım. Eğitirken Logistic Regression kullanacagım. Çünkü ben kendi projemde ikili sınıflandırma kullandım ( ya doğru haber ya yanlış haber). Ayrıca basit, hızlı ve olasılık ihtimali sunuyor."
   ]
  },
  {
   "cell_type": "code",
   "execution_count": 19,
   "metadata": {
    "execution": {
     "iopub.execute_input": "2025-05-25T19:31:34.862117Z",
     "iopub.status.busy": "2025-05-25T19:31:34.861767Z",
     "iopub.status.idle": "2025-05-25T19:31:45.600887Z",
     "shell.execute_reply": "2025-05-25T19:31:45.600110Z",
     "shell.execute_reply.started": "2025-05-25T19:31:34.862089Z"
    },
    "trusted": true
   },
   "outputs": [
    {
     "name": "stdout",
     "output_type": "stream",
     "text": [
      "Model doğruluğu: 1.0000\n"
     ]
    }
   ],
   "source": [
    "from sklearn.metrics import accuracy_score\n",
    "model = LogisticRegression(max_iter=70000) # logistic regression yapmak için\n",
    "model.fit(X_train_tfidf, y_train) \n",
    "y_pred = model.predict(X_test_tfidf) # tahmin yapma\n",
    "accuracy = accuracy_score(y_test, y_pred) #test sonuc doğruluk yazdırma\n",
    "print(f\"Model doğruluğu: {accuracy:.4f}\")\n"
   ]
  },
  {
   "cell_type": "code",
   "execution_count": 20,
   "metadata": {
    "execution": {
     "iopub.execute_input": "2025-05-25T19:31:45.601867Z",
     "iopub.status.busy": "2025-05-25T19:31:45.601570Z",
     "iopub.status.idle": "2025-05-25T19:31:45.868548Z",
     "shell.execute_reply": "2025-05-25T19:31:45.866494Z",
     "shell.execute_reply.started": "2025-05-25T19:31:45.601845Z"
    },
    "trusted": true
   },
   "outputs": [
    {
     "name": "stderr",
     "output_type": "stream",
     "text": [
      "C:\\Users\\Deniz Eldeniz\\AppData\\Local\\Temp\\ipykernel_12276\\3318284594.py:16: FutureWarning: \n",
      "\n",
      "Passing `palette` without assigning `hue` is deprecated and will be removed in v0.14.0. Assign the `x` variable to `hue` and set `legend=False` for the same effect.\n",
      "\n",
      "  sns.barplot(x='Metric', y='Value', data=metrics_df, palette='Set2')\n"
     ]
    },
    {
     "data": {
      "image/png": "[encoded data removed]",
      "text/plain": [
       "<Figure size 640x480 with 1 Axes>"
      ]
     },
     "metadata": {},
     "output_type": "display_data"
    }
   ],
   "source": [
    "from sklearn.metrics import precision_score, recall_score, f1_score\n",
    "import matplotlib.pyplot as plt\n",
    "import seaborn as sns\n",
    "import pandas as pd\n",
    "\n",
    "# pos_label=1 olarak değiştiriyoruz, çünkü 1 = sahte haber\n",
    "precision = precision_score(y_test, y_pred, pos_label=1)\n",
    "recall = recall_score(y_test, y_pred, pos_label=1)\n",
    "f1 = f1_score(y_test, y_pred, pos_label=1)\n",
    "\n",
    "metrics_df = pd.DataFrame({\n",
    "    'Metric': ['Precision', 'Recall', 'F1 Score'],\n",
    "    'Value': [precision, recall, f1]\n",
    "})\n",
    "\n",
    "sns.barplot(x='Metric', y='Value', data=metrics_df, palette='Set2')\n",
    "plt.title(\"Sahte Haber Sınıflandırma Performansı\")\n",
    "plt.ylim(0, 1)\n",
    "plt.ylabel(\"Skor\")\n",
    "plt.show()\n"
   ]
  }
 ],
 "metadata": {
  "kaggle": {
   "accelerator": "none",
   "dataSources": [
    {
     "datasetId": 6752739,
     "sourceId": 10869443,
     "sourceType": "datasetVersion"
    },
    {
     "datasetId": 7463793,
     "sourceId": 11876146,
     "sourceType": "datasetVersion"
    },
    {
     "datasetId": 7505650,
     "sourceId": 11938377,
     "sourceType": "datasetVersion"
    },
    {
     "datasetId": 7505689,
     "sourceId": 11938439,
     "sourceType": "datasetVersion"
    }
   ],
   "dockerImageVersionId": 31040,
   "isGpuEnabled": false,
   "isInternetEnabled": false,
   "language": "python",
   "sourceType": "notebook"
  },
  "kernelspec": {
   "display_name": "Python 3",
   "language": "python",
   "name": "python3"
  },
  "language_info": {
   "codemirror_mode": {
    "name": "ipython",
    "version": 3
   },
   "file_extension": ".py",
   "mimetype": "text/x-python",
   "name": "python",
   "nbconvert_exporter": "python",
   "pygments_lexer": "ipython3",
   "version": "3.12.10"
  }
 },
 "nbformat": 4,
 "nbformat_minor": 4
}
